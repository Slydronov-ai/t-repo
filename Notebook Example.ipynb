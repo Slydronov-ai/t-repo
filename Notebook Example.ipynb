{
    "cells": [
        {
            "metadata": {},
            "cell_type": "markdown",
            "source": "# Description\nData from shops.csv"
        },
        {
            "metadata": {},
            "cell_type": "code",
            "source": "\nimport types\nimport pandas as pd\nfrom botocore.client import Config\nimport ibm_boto3\n\ndef __iter__(self): return 0\n\n# @hidden_cell\n# The following code accesses a file in your IBM Cloud Object Storage. It includes your credentials.\n# You might want to remove those credentials before you share the notebook.\nclient_0e15ff8fb58b4cb4951424e5a11c20da = ibm_boto3.client(service_name='s3',\n    ibm_api_key_id='hQJPQMfbIP0A_veFJJyuTbXyJkN-uegcxzya53A61POv',\n    ibm_auth_endpoint=\"https://iam.cloud.ibm.com/oidc/token\",\n    config=Config(signature_version='oauth'),\n    endpoint_url='https://s3-api.us-geo.objectstorage.service.networklayer.com')\n\nbody = client_0e15ff8fb58b4cb4951424e5a11c20da.get_object(Bucket='juputernotebookproject-donotdelete-pr-hwhpfyzonsgypt',Key='shops.csv')['Body']\n# add missing __iter__ method, so pandas accepts body as file-like object\nif not hasattr(body, \"__iter__\"): body.__iter__ = types.MethodType( __iter__, body )\n\ndf_data_1 = pd.read_csv(body)\ndf_data_1.head()\n",
            "execution_count": 1,
            "outputs": [
                {
                    "output_type": "execute_result",
                    "execution_count": 1,
                    "data": {
                        "text/plain": "        food   price        store  origin\n0  chocolate  100.30  supermarket  russia\n1  chocolate   55.57   minimarket  russia\n2  chocolate  268.62   minimarket  import\n3  chocolate  196.81  supermarket  import\n4      bread   10.91   minimarket  russia",
                        "text/html": "<div>\n<style scoped>\n    .dataframe tbody tr th:only-of-type {\n        vertical-align: middle;\n    }\n\n    .dataframe tbody tr th {\n        vertical-align: top;\n    }\n\n    .dataframe thead th {\n        text-align: right;\n    }\n</style>\n<table border=\"1\" class=\"dataframe\">\n  <thead>\n    <tr style=\"text-align: right;\">\n      <th></th>\n      <th>food</th>\n      <th>price</th>\n      <th>store</th>\n      <th>origin</th>\n    </tr>\n  </thead>\n  <tbody>\n    <tr>\n      <th>0</th>\n      <td>chocolate</td>\n      <td>100.30</td>\n      <td>supermarket</td>\n      <td>russia</td>\n    </tr>\n    <tr>\n      <th>1</th>\n      <td>chocolate</td>\n      <td>55.57</td>\n      <td>minimarket</td>\n      <td>russia</td>\n    </tr>\n    <tr>\n      <th>2</th>\n      <td>chocolate</td>\n      <td>268.62</td>\n      <td>minimarket</td>\n      <td>import</td>\n    </tr>\n    <tr>\n      <th>3</th>\n      <td>chocolate</td>\n      <td>196.81</td>\n      <td>supermarket</td>\n      <td>import</td>\n    </tr>\n    <tr>\n      <th>4</th>\n      <td>bread</td>\n      <td>10.91</td>\n      <td>minimarket</td>\n      <td>russia</td>\n    </tr>\n  </tbody>\n</table>\n</div>"
                    },
                    "metadata": {}
                }
            ]
        },
        {
            "metadata": {},
            "cell_type": "code",
            "source": "",
            "execution_count": null,
            "outputs": []
        }
    ],
    "metadata": {
        "kernelspec": {
            "name": "python3",
            "display_name": "Python 3.7",
            "language": "python"
        },
        "language_info": {
            "name": "python",
            "version": "3.7.9",
            "mimetype": "text/x-python",
            "codemirror_mode": {
                "name": "ipython",
                "version": 3
            },
            "pygments_lexer": "ipython3",
            "nbconvert_exporter": "python",
            "file_extension": ".py"
        }
    },
    "nbformat": 4,
    "nbformat_minor": 1
}